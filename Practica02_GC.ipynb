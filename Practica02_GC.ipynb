{
 "cells": [
  {
   "cell_type": "code",
   "execution_count": 1,
   "metadata": {},
   "outputs": [
    {
     "name": "stdout",
     "output_type": "stream",
     "text": [
      "180.0\n"
     ]
    }
   ],
   "source": [
    "compra = 200\n",
    "\n",
    "if compra > 100: \n",
    "    pagar = compra-(compra*.10)\n",
    "    print(pagar)\n",
    "else: \n",
    "    pagar = compra\n",
    "    print(compra)"
   ]
  },
  {
   "cell_type": "code",
   "execution_count": 2,
   "metadata": {
    "scrolled": false
   },
   "outputs": [
    {
     "name": "stdout",
     "output_type": "stream",
     "text": [
      "28.69\n"
     ]
    }
   ],
   "source": [
    "b= 5.5436463\n",
    "h= 10.35\n",
    "area= (b*h)/2\n",
    "print(round(area,2))"
   ]
  },
  {
   "cell_type": "code",
   "execution_count": 3,
   "metadata": {},
   "outputs": [
    {
     "name": "stdout",
     "output_type": "stream",
     "text": [
      "20.06920415224914\n"
     ]
    }
   ],
   "source": [
    "peso=58\n",
    "altura=1.70\n",
    "IMC=peso/altura**2\n",
    "print(IMC)"
   ]
  }
 ],
 "metadata": {
  "kernelspec": {
   "display_name": "Python 3",
   "language": "python",
   "name": "python3"
  },
  "language_info": {
   "codemirror_mode": {
    "name": "ipython",
    "version": 3
   },
   "file_extension": ".py",
   "mimetype": "text/x-python",
   "name": "python",
   "nbconvert_exporter": "python",
   "pygments_lexer": "ipython3",
   "version": "3.8.5"
  }
 },
 "nbformat": 4,
 "nbformat_minor": 4
}
